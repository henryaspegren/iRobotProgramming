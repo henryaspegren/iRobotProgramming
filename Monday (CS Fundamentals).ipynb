{
 "cells": [
  {
   "cell_type": "markdown",
   "metadata": {
    "collapsed": true
   },
   "source": [
    "# Monday Workshop - Foundamentals of Programming Exercises\n",
    "\n",
    "## Part 1 - Data types\n",
    "\n",
    "1. Declare an integer: my_age\n",
    "\n",
    "2. Declare a boolean: excited\n",
    "\n",
    "3. Declare an array of Strings: my_hobbies"
   ]
  },
  {
   "cell_type": "code",
   "execution_count": 4,
   "metadata": {
    "collapsed": true
   },
   "outputs": [],
   "source": []
  },
  {
   "cell_type": "code",
   "execution_count": null,
   "metadata": {
    "collapsed": true
   },
   "outputs": [],
   "source": []
  },
  {
   "cell_type": "code",
   "execution_count": null,
   "metadata": {
    "collapsed": true
   },
   "outputs": [],
   "source": []
  },
  {
   "cell_type": "markdown",
   "metadata": {},
   "source": [
    "## Part 2 - Data structures\n",
    "\n",
    "1. Declare an empty list, and add tuples in the format (friend's name, his/her age)\n",
    "\n",
    "2. Declare an empty dictionary, and add entries in the format key: something about yourself, value: list. e.g. {\"hobbies\": [\"sleep\", \"eat\", \"movies\"]}"
   ]
  },
  {
   "cell_type": "code",
   "execution_count": null,
   "metadata": {
    "collapsed": true
   },
   "outputs": [],
   "source": []
  },
  {
   "cell_type": "code",
   "execution_count": null,
   "metadata": {
    "collapsed": true
   },
   "outputs": [],
   "source": []
  },
  {
   "cell_type": "markdown",
   "metadata": {},
   "source": [
    "## Part 3 - Functions\n",
    "\n",
    "1. Define a function that takes in two Strings and print the first two elements of each String concatenated together"
   ]
  },
  {
   "cell_type": "code",
   "execution_count": null,
   "metadata": {
    "collapsed": true
   },
   "outputs": [],
   "source": [
    "def printing(String1, String2):\n",
    "    # put your code here\n",
    "    # do we need to return anything?"
   ]
  },
  {
   "cell_type": "markdown",
   "metadata": {},
   "source": [
    "## Part 4 - Control Flow and more with Functions\n",
    "\n",
    "1. Define a function that takes in a list of numbers and returns its sum\n",
    "\n",
    "2. Define a function that takes in a String and returns a dictionary that stores the frequencies of each character\n",
    "\n",
    "3. Define a function that takes in a list of numbers and returns its maximum element"
   ]
  },
  {
   "cell_type": "code",
   "execution_count": null,
   "metadata": {
    "collapsed": true
   },
   "outputs": [],
   "source": [
    "def total(input):\n",
    "    # put your code here\n",
    "    # use a while loop\n",
    "    return result"
   ]
  },
  {
   "cell_type": "code",
   "execution_count": null,
   "metadata": {
    "collapsed": true
   },
   "outputs": [],
   "source": [
    "def frequencies(input):\n",
    "    # put your code here\n",
    "    return result"
   ]
  },
  {
   "cell_type": "code",
   "execution_count": null,
   "metadata": {
    "collapsed": true
   },
   "outputs": [],
   "source": [
    "def maximum(input):\n",
    "    # put your code here\n",
    "    # use a for loop\n",
    "    return result"
   ]
  }
 ],
 "metadata": {
  "kernelspec": {
   "display_name": "Python 2",
   "language": "python",
   "name": "python2"
  },
  "language_info": {
   "codemirror_mode": {
    "name": "ipython",
    "version": 2
   },
   "file_extension": ".py",
   "mimetype": "text/x-python",
   "name": "python",
   "nbconvert_exporter": "python",
   "pygments_lexer": "ipython2",
   "version": "2.7.10"
  }
 },
 "nbformat": 4,
 "nbformat_minor": 1
}
