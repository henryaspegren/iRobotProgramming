{
 "cells": [
  {
   "cell_type": "markdown",
   "metadata": {},
   "source": [
    "# Data Structures \n",
    "\n",
    "We could, in principle, write all of our programs simply using variables and raw memory. However that would become extremely difficult for more complex programs. Instead computer scientists have built powerful tools that allow us to better control and organize raw data. These tools are called data strctures or collections. We will go over a few of the most important ones today"
   ]
  },
  {
   "cell_type": "markdown",
   "metadata": {},
   "source": [
    "## Lists\n",
    "\n",
    "Lists are one of the most frequently used python data structures. \n",
    "\n",
    "Some basic features of Lists are\n",
    "- Ordered \n",
    "- Mutable\n",
    "- Can Contain Different Types of Data (This is not true in other languages [for example in Java])\n",
    "\n",
    "The mental picture to have in mind for a list of _n+1_ elements is \n",
    "\n",
    "[element 0] - [element 1] - [element 2] .... - [element n]\n",
    "\n",
    "### Creation\n",
    "\n",
    "To create an empty list"
   ]
  },
  {
   "cell_type": "code",
   "execution_count": null,
   "metadata": {
    "collapsed": true
   },
   "outputs": [],
   "source": [
    "empty_list = []"
   ]
  },
  {
   "cell_type": "code",
   "execution_count": null,
   "metadata": {
    "collapsed": false
   },
   "outputs": [],
   "source": [
    "print empty_list"
   ]
  },
  {
   "cell_type": "markdown",
   "metadata": {},
   "source": [
    "We can use the _len_ function to get the length of the empty list"
   ]
  },
  {
   "cell_type": "code",
   "execution_count": null,
   "metadata": {
    "collapsed": true
   },
   "outputs": [],
   "source": [
    "print len(empty_list)"
   ]
  },
  {
   "cell_type": "markdown",
   "metadata": {},
   "source": [
    "We can also create a non-empty list with multiple elements "
   ]
  },
  {
   "cell_type": "code",
   "execution_count": null,
   "metadata": {
    "collapsed": true
   },
   "outputs": [],
   "source": [
    "example_list = [1, 2, 3, 4, 5]"
   ]
  },
  {
   "cell_type": "markdown",
   "metadata": {},
   "source": [
    "Let's see what that list looks like"
   ]
  },
  {
   "cell_type": "code",
   "execution_count": null,
   "metadata": {
    "collapsed": true
   },
   "outputs": [],
   "source": [
    "print example_list, 'length is: '+str(len(empty_list))"
   ]
  },
  {
   "cell_type": "markdown",
   "metadata": {},
   "source": [
    "In python you can have lists of different types of elements for example"
   ]
  },
  {
   "cell_type": "code",
   "execution_count": null,
   "metadata": {
    "collapsed": true
   },
   "outputs": [],
   "source": [
    "example_list_different_types = ['a', 'hello world', 1234, 1.0]"
   ]
  },
  {
   "cell_type": "code",
   "execution_count": null,
   "metadata": {
    "collapsed": false
   },
   "outputs": [],
   "source": [
    "print example_list_different_types"
   ]
  },
  {
   "cell_type": "markdown",
   "metadata": {},
   "source": [
    "### Access\n",
    "\n",
    "To access an element at _index_ from a list you use the following notation\n",
    "\n",
    "list[index] \n",
    "\n",
    "Remember that in Computer Science we start counting at zero (things are zero indexed)\n",
    "\n",
    "so the first element of the list is at index 0, the second element is at index 1 and so on \n",
    "\n",
    "          [element 1, element 2, element 3, .... ]\n",
    "    index:       0 ,        1  ,       2\n",
    "\n",
    "let's use the list we created earlier as an example \n",
    "\n",
    "example_list_different_types = ['a', 'hello world', 1234, 1.0]"
   ]
  },
  {
   "cell_type": "code",
   "execution_count": null,
   "metadata": {
    "collapsed": false
   },
   "outputs": [],
   "source": [
    "print 'index 0:', example_list_different_types[0]\n",
    "print 'index 1:', example_list_different_types[1]\n",
    "print 'index 2:', example_list_different_types[2]\n",
    "print 'index 3:', example_list_different_types[3]"
   ]
  },
  {
   "cell_type": "markdown",
   "metadata": {},
   "source": [
    "You can also use negative indicies to access elements as an offset from the end of the list\n",
    "\n",
    "For example"
   ]
  },
  {
   "cell_type": "code",
   "execution_count": null,
   "metadata": {
    "collapsed": false
   },
   "outputs": [],
   "source": [
    "print 'index -1:', example_list_different_types[-1]\n",
    "print 'index -2:', example_list_different_types[-2]"
   ]
  },
  {
   "cell_type": "markdown",
   "metadata": {},
   "source": [
    "If you try to access something at an index that doesn't exist you will get an error"
   ]
  },
  {
   "cell_type": "code",
   "execution_count": null,
   "metadata": {
    "collapsed": true
   },
   "outputs": [],
   "source": [
    "example_list_different_types[4] # last element is at index 3,"
   ]
  },
  {
   "cell_type": "markdown",
   "metadata": {},
   "source": [
    "### Modification \n",
    "\n",
    "One of the most useful things about lists in Python is that you can modify their contents. \n",
    "\n",
    "You can: \n",
    "- add items (at any position)\n",
    "- remove items (from any position)\n",
    "- concatenate two lists \n",
    "- take a slice of a list\n",
    "\n",
    "Adding an item can be done using _insert_  or _append_"
   ]
  },
  {
   "cell_type": "code",
   "execution_count": null,
   "metadata": {
    "collapsed": false
   },
   "outputs": [],
   "source": [
    "empty_list = []\n",
    "empty_list.append(1)\n",
    "empty_list.append(2)\n",
    "empty_list.append(3)\n",
    "\n",
    "print empty_list"
   ]
  },
  {
   "cell_type": "code",
   "execution_count": null,
   "metadata": {
    "collapsed": false
   },
   "outputs": [],
   "source": [
    "                # index, value to insert\n",
    "empty_list.insert(0, 'this is a string')\n",
    "print empty_list"
   ]
  },
  {
   "cell_type": "markdown",
   "metadata": {},
   "source": [
    "To delete an item you can use the _del_ keyword"
   ]
  },
  {
   "cell_type": "code",
   "execution_count": null,
   "metadata": {
    "collapsed": false
   },
   "outputs": [],
   "source": [
    "    # give it a reference to the value you want to delete\n",
    "del empty_list[1]\n",
    "print empty_list"
   ]
  },
  {
   "cell_type": "markdown",
   "metadata": {},
   "source": [
    "We can also concatenate the contents of two lists using the '+' operator "
   ]
  },
  {
   "cell_type": "code",
   "execution_count": null,
   "metadata": {
    "collapsed": false
   },
   "outputs": [],
   "source": [
    "listA = [1, 2, 3]\n",
    "listB = ['a', 'b', 'c']\n",
    "combined = listA + listB\n",
    "\n",
    "print combined"
   ]
  },
  {
   "cell_type": "markdown",
   "metadata": {},
   "source": [
    "We can also take a subset of a list. This is often called a __slice__\n",
    "\n",
    "For example say we only want the first three elements of a list. \n",
    "\n",
    "list[_starting index (inclusive)_ : _ending index (exclusive)_]\n",
    "\n",
    "So to get values from indicies [0, 3) We can simply write "
   ]
  },
  {
   "cell_type": "code",
   "execution_count": null,
   "metadata": {
    "collapsed": false
   },
   "outputs": [],
   "source": [
    "example_list = [1, 2, 3, 4, 5]\n",
    "first_three = example_list[0:3]\n",
    "print first_three"
   ]
  },
  {
   "cell_type": "markdown",
   "metadata": {},
   "source": [
    "## Dictionaries (aka Hash Tables)\n",
    "\n",
    "One of the other most imporant data structures in programming is called a dictionary or hash table. A dictionary is useful for storing (key, value) pairs. Given a key the dictionary can tell you the associated value (as analogous to the fact that if you have a dictionary and someone gives you a word (key) you can look up the definition (value)). \n",
    "\n",
    "In python each key is mapped to a single value (key -> value) \n",
    "\n",
    "Some basic features of Dictionaries are\n",
    "- Mutable \n",
    "- Unordered\n",
    "- Keeps track of (key, value) pairs\n",
    "- Fast lookups\n",
    "\n",
    "### Creation\n",
    "\n",
    "To create an empty dictionary you write"
   ]
  },
  {
   "cell_type": "code",
   "execution_count": null,
   "metadata": {
    "collapsed": true
   },
   "outputs": [],
   "source": [
    "example_dict = {}"
   ]
  },
  {
   "cell_type": "markdown",
   "metadata": {},
   "source": [
    "### Adding Key, Value Pairs\n",
    "\n",
    "Say you want to store for each member of the class their favorite animal\n",
    "\n",
    "key  (maps to) value\n",
    "\n",
    "'Henry' -> Tiger\n",
    "\n",
    "'Candice' -> Hawk\n",
    "\n",
    "We can add these pairs to the dictionary with the following syntax\n",
    "\n",
    "dictionary[__key__] = __value__"
   ]
  },
  {
   "cell_type": "code",
   "execution_count": null,
   "metadata": {
    "collapsed": false
   },
   "outputs": [],
   "source": [
    "example_dict['Henry'] = 'Tiger'\n",
    "example_dict['Candice'] = 'Hawk'\n",
    "print example_dict\n",
    "print example_dict.keys()\n",
    "print example_dict.values()"
   ]
  },
  {
   "cell_type": "markdown",
   "metadata": {},
   "source": [
    "### Checking if a key is in the dictionary\n",
    "\n",
    "we can now check that these values are in the dictionary using the _in_ keyword"
   ]
  },
  {
   "cell_type": "code",
   "execution_count": null,
   "metadata": {
    "collapsed": false
   },
   "outputs": [],
   "source": [
    "print ('Henry' in example_dict)\n",
    "print ('Candice' in example_dict)\n",
    "print ('JayZ' in example_dict)"
   ]
  },
  {
   "cell_type": "markdown",
   "metadata": {},
   "source": [
    "### Looking up values given a key\n",
    "\n",
    "Now say we are given a member of the class and want to figure out what his or her favorite animal is. We can do this using the following syntax\n",
    "\n",
    "dictionary[__key__]\n",
    "\n",
    "which will give us the value associated with that key \n",
    "\n",
    "For example"
   ]
  },
  {
   "cell_type": "code",
   "execution_count": null,
   "metadata": {
    "collapsed": true
   },
   "outputs": [],
   "source": [
    "print 'Key: Henry', 'Value: '+example_dict['Henry']\n",
    "print 'Key: Candice', 'Value: '+example_dict['Candice']"
   ]
  },
  {
   "cell_type": "markdown",
   "metadata": {},
   "source": [
    "What happens if we try to look up a value that does not exist in the dictionary?"
   ]
  },
  {
   "cell_type": "code",
   "execution_count": null,
   "metadata": {
    "collapsed": true
   },
   "outputs": [],
   "source": [
    "example_dict['this key does not exist']"
   ]
  },
  {
   "cell_type": "markdown",
   "metadata": {},
   "source": [
    "Note that dictionaries aren't limited to basic types. For example"
   ]
  },
  {
   "cell_type": "code",
   "execution_count": null,
   "metadata": {
    "collapsed": false
   },
   "outputs": [],
   "source": [
    "dict_example = {}\n",
    "            # any hashable type  -> any type\n",
    "dict_example[1] = [1, 2, 3, 4, 5]\n",
    "\n",
    "print dict_example"
   ]
  },
  {
   "cell_type": "markdown",
   "metadata": {},
   "source": [
    "## Tuples \n",
    "\n",
    "Tuples are another data structure you will frequently encounter. Tuples are like lists but are immutable. \n",
    "\n",
    "Some basic features of Tuples are\n",
    "- Immutable \n",
    "- Ordered\n",
    "\n",
    "### Creation\n",
    "\n",
    "To create a tuple, you use the same syntax as you would for a list, just with () instead of []. However once you have created it you cannot modify it!"
   ]
  },
  {
   "cell_type": "code",
   "execution_count": 6,
   "metadata": {
    "collapsed": false
   },
   "outputs": [
    {
     "name": "stdout",
     "output_type": "stream",
     "text": [
      "()\n",
      "('|element 1|', '|element 2|', '|element 3|')\n"
     ]
    }
   ],
   "source": [
    "empty_tuple = ()\n",
    "tuple_ex = ('|element 1|', '|element 2|', '|element 3|')\n",
    "print empty_tuple\n",
    "print tuple_ex"
   ]
  },
  {
   "cell_type": "markdown",
   "metadata": {},
   "source": [
    "### Access\n",
    "\n",
    "Accessing elements is just like it was for a list.\n",
    "For example"
   ]
  },
  {
   "cell_type": "code",
   "execution_count": 7,
   "metadata": {
    "collapsed": false
   },
   "outputs": [
    {
     "name": "stdout",
     "output_type": "stream",
     "text": [
      "index 0: |element 1|\n",
      "index 1: |element 2|\n",
      "index 2: |element 3|\n"
     ]
    }
   ],
   "source": [
    "print 'index 0:', tuple_ex[0]\n",
    "print 'index 1:', tuple_ex[1]\n",
    "print 'index 2:', tuple_ex[2]"
   ]
  },
  {
   "cell_type": "markdown",
   "metadata": {},
   "source": [
    "Can also use the following \"tuple unpacking syntax\" "
   ]
  },
  {
   "cell_type": "code",
   "execution_count": 8,
   "metadata": {
    "collapsed": false
   },
   "outputs": [
    {
     "name": "stdout",
     "output_type": "stream",
     "text": [
      "|element 1| |element 2| |element 3|\n"
     ]
    }
   ],
   "source": [
    "element1, element2, element3 = tuple_ex \n",
    "\n",
    "print element1, element2, element3"
   ]
  },
  {
   "cell_type": "markdown",
   "metadata": {},
   "source": [
    "### Why is immutability helpful?\n",
    "\n",
    "Consider the following two code fragments"
   ]
  },
  {
   "cell_type": "code",
   "execution_count": null,
   "metadata": {
    "collapsed": true
   },
   "outputs": [],
   "source": [
    "variableA = 'A'\n",
    "\n",
    "lists_are_mutable = [variableA, variableA, variableA]\n",
    "tuples_are_immutable = (variableA, variableA, variableA)\n",
    "prit"
   ]
  }
 ],
 "metadata": {
  "kernelspec": {
   "display_name": "Python 2",
   "language": "python",
   "name": "python2"
  },
  "language_info": {
   "codemirror_mode": {
    "name": "ipython",
    "version": 2
   },
   "file_extension": ".py",
   "mimetype": "text/x-python",
   "name": "python",
   "nbconvert_exporter": "python",
   "pygments_lexer": "ipython2",
   "version": "2.7.10"
  }
 },
 "nbformat": 4,
 "nbformat_minor": 1
}
