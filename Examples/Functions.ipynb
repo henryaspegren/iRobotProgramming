{
 "cells": [
  {
   "cell_type": "markdown",
   "metadata": {},
   "source": [
    "# Functions\n",
    "\n",
    "You can define functions to provide the required functionality. Here are simple rules to define a function in Python.\n",
    "\n",
    "1. Function blocks begin with the keyword def followed by the function name and parentheses ( ).\n",
    "\n",
    "2. Any input parameters or arguments should be placed within these parentheses. You can also define parameters inside these parentheses.\n",
    "\n",
    "3. The first statement of a function can be an optional statement - the documentation string of the function or docstring.\n",
    "\n",
    "4. The code block within every function starts with a colon (:) and is indented.\n",
    "\n",
    "5. The statement return [expression] exits a function, optionally passing back an expression to the caller. A return statement with no arguments is the same as return None.\n"
   ]
  },
  {
   "cell_type": "markdown",
   "metadata": {},
   "source": [
    "## What a function looks like:"
   ]
  },
  {
   "cell_type": "code",
   "execution_count": null,
   "metadata": {
    "collapsed": true
   },
   "outputs": [],
   "source": [
    "def function_name(argument1, argument2):\n",
    "    \"\"\"documentation string, what this function does\"\"\"\n",
    "    # code\n",
    "    return [some expression]"
   ]
  },
  {
   "cell_type": "markdown",
   "metadata": {},
   "source": [
    "## Examples:"
   ]
  },
  {
   "cell_type": "code",
   "execution_count": 1,
   "metadata": {
    "collapsed": false
   },
   "outputs": [
    {
     "name": "stdout",
     "output_type": "stream",
     "text": [
      "Hello, world\n"
     ]
    }
   ],
   "source": [
    "def print_something(string_to_print):\n",
    "    print string_to_print\n",
    "    # do we need to return?\n",
    "    return\n",
    "\n",
    "print_something(\"Hello, world\")"
   ]
  },
  {
   "cell_type": "code",
   "execution_count": 2,
   "metadata": {
    "collapsed": false
   },
   "outputs": [
    {
     "name": "stdout",
     "output_type": "stream",
     "text": [
      "False\n",
      "True\n"
     ]
    }
   ],
   "source": [
    "def two_vars_equal(var1, var2):\n",
    "    return var1 == var2\n",
    "\n",
    "print two_vars_equal(1,2)\n",
    "print two_vars_equal(\"hello\", \"hello\")"
   ]
  },
  {
   "cell_type": "code",
   "execution_count": 3,
   "metadata": {
    "collapsed": false
   },
   "outputs": [
    {
     "name": "stdout",
     "output_type": "stream",
     "text": [
      "1\n",
      "2\n",
      "3\n"
     ]
    }
   ],
   "source": [
    "def max_of_three(num1, num2, num3):\n",
    "    result = num1\n",
    "    if num1 > num2:\n",
    "        result = num1\n",
    "    else:\n",
    "        result = num2\n",
    "        \n",
    "    if result > num3:\n",
    "        return result\n",
    "    else:\n",
    "        result = num3\n",
    "    return result\n",
    "        \n",
    "print max_of_three(1,0,0)\n",
    "print max_of_three(2,1,-10)\n",
    "print max_of_three(-1,3,0)"
   ]
  },
  {
   "cell_type": "code",
   "execution_count": 7,
   "metadata": {
    "collapsed": false
   },
   "outputs": [
    {
     "name": "stdout",
     "output_type": "stream",
     "text": [
      "taking branch\n"
     ]
    }
   ],
   "source": []
  },
  {
   "cell_type": "code",
   "execution_count": 9,
   "metadata": {
    "collapsed": false
   },
   "outputs": [
    {
     "data": {
      "text/plain": [
       "0"
      ]
     },
     "execution_count": 9,
     "metadata": {},
     "output_type": "execute_result"
    }
   ],
   "source": []
  },
  {
   "cell_type": "code",
   "execution_count": null,
   "metadata": {
    "collapsed": true
   },
   "outputs": [],
   "source": []
  },
  {
   "cell_type": "code",
   "execution_count": 16,
   "metadata": {
    "collapsed": false
   },
   "outputs": [
    {
     "name": "stdout",
     "output_type": "stream",
     "text": [
      "a\n",
      "b\n",
      "c\n",
      "1\n"
     ]
    }
   ],
   "source": [
    "list_of_numbers = [1, 2, 3, 4, 5]\n",
    "for j in list_of_numbers:\n",
    "    print j*j*j"
   ]
  },
  {
   "cell_type": "code",
   "execution_count": 18,
   "metadata": {
    "collapsed": false
   },
   "outputs": [
    {
     "name": "stdout",
     "output_type": "stream",
     "text": [
      "What is the password?: ses\n",
      "wrong password, try again\n",
      "What is the password?: sd\n",
      "wrong password, try again\n",
      "What is the password?: afsadfa\n",
      "wrong password, try again\n",
      "What is the password?: fa\n",
      "wrong password, try again\n",
      "What is the password?: adf\n",
      "wrong password, try again\n",
      "What is the password?: sd\n",
      "wrong password, try again\n",
      "What is the password?: s\n",
      "wrong password, try again\n",
      "What is the password?: s\n",
      "wrong password, try again\n",
      "What is the password?: s\n",
      "wrong password, try again\n",
      "What is the password?: s\n",
      "wrong password, try again\n",
      "What is the password?: teddy bear\n",
      "access granted\n"
     ]
    }
   ],
   "source": [
    "correct_password = 'teddy bear'\n",
    "while raw_input('What is the password?: ') != correct_password:\n",
    "    print 'wrong password, try again'\n",
    "\n",
    "print 'access granted'"
   ]
  },
  {
   "cell_type": "code",
   "execution_count": 20,
   "metadata": {
    "collapsed": false
   },
   "outputs": [
    {
     "name": "stdout",
     "output_type": "stream",
     "text": [
      "0\n",
      "8\n",
      "64\n",
      "216\n",
      "512\n"
     ]
    }
   ],
   "source": []
  },
  {
   "cell_type": "code",
   "execution_count": null,
   "metadata": {
    "collapsed": true
   },
   "outputs": [],
   "source": []
  }
 ],
 "metadata": {
  "kernelspec": {
   "display_name": "Python 2",
   "language": "python",
   "name": "python2"
  },
  "language_info": {
   "codemirror_mode": {
    "name": "ipython",
    "version": 2
   },
   "file_extension": ".py",
   "mimetype": "text/x-python",
   "name": "python",
   "nbconvert_exporter": "python",
   "pygments_lexer": "ipython2",
   "version": "2.7.10"
  }
 },
 "nbformat": 4,
 "nbformat_minor": 2
}
