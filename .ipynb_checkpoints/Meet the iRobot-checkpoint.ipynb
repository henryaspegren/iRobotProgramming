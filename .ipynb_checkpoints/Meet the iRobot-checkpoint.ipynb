{
 "cells": [
  {
   "cell_type": "markdown",
   "metadata": {},
   "source": [
    "# Meet the iRobot\n",
    "\n",
    "## Part 1 - Loading a Robot Object\n",
    "\n",
    "We need to load the dependencies"
   ]
  },
  {
   "cell_type": "code",
   "execution_count": 1,
   "metadata": {
    "collapsed": true
   },
   "outputs": [],
   "source": [
    "from breezycreate2 import Robot"
   ]
  },
  {
   "cell_type": "markdown",
   "metadata": {},
   "source": [
    "We also want to control how long the robot does a task so we are going to use the python time module"
   ]
  },
  {
   "cell_type": "code",
   "execution_count": 11,
   "metadata": {
    "collapsed": true
   },
   "outputs": [],
   "source": [
    "import time\n",
    "import pprint"
   ]
  },
  {
   "cell_type": "markdown",
   "metadata": {},
   "source": [
    "Now we want to create a robot object to allow us to interact with the robot. \n",
    "\n",
    "<font color='red'>Make sure the serial cable is plugged in, the robot is turned on and connected BEFORE running this command.</font>\n",
    "\n",
    "To do this we create an instance of the robot class and assign it to a variable called bot. If you get an error here raise your hand. It means that the port is not correctly configured."
   ]
  },
  {
   "cell_type": "code",
   "execution_count": 3,
   "metadata": {
    "collapsed": false
   },
   "outputs": [
    {
     "name": "stdout",
     "output_type": "stream",
     "text": [
      "connected\n"
     ]
    }
   ],
   "source": [
    "bot = Robot()"
   ]
  },
  {
   "cell_type": "markdown",
   "metadata": {},
   "source": [
    "There are two APIs we can use to interact with the robot the Robot class and the \\_Create2 class. The Robot class is just a wraper over the \\_Create2 class. Hiding inside it is an instance of the \\_Create2 class. We can access either. You will need to use both at different points in the workshop. "
   ]
  },
  {
   "cell_type": "code",
   "execution_count": 4,
   "metadata": {
    "collapsed": true
   },
   "outputs": [],
   "source": [
    "create_2_bot = bot.robot"
   ]
  },
  {
   "cell_type": "markdown",
   "metadata": {},
   "source": [
    "Now let's make sure the robot is connected. The easiest way to do this is to simply tell the robot to do something! \n",
    "\n",
    "Look up what the following method does.\n",
    "\n",
    "```python\n",
    "Class _Create2:\n",
    "    ...\n",
    "    def play_test_sound(self)\n",
    "```\n",
    "\n",
    "Read through the code in __init__.py to figure out what this method will do. Always make sure you know what your robot is about to do before using the API. Once you're satisfied run the following command.\n",
    "\n",
    "Note since this is in the \\_Create2 API and NOT the Robot API we need to call it from the create_2 object.  \n"
   ]
  },
  {
   "cell_type": "code",
   "execution_count": null,
   "metadata": {
    "collapsed": true
   },
   "outputs": [],
   "source": [
    "create_2_bot.play_test_sound()"
   ]
  },
  {
   "cell_type": "markdown",
   "metadata": {},
   "source": [
    "If your robot does not do anything raise your hands and the staff will come over and help you."
   ]
  },
  {
   "cell_type": "markdown",
   "metadata": {},
   "source": [
    "## Part 2 - Let's Start To Use the API\n",
    "\n",
    "Now we are going to start to experiment with what the robot allows you to do. First lets have the robot play a note! In order to do that we need to use the API. Open the file __init__.py and read through to find out how to do this. \n",
    "\n",
    "Play the note A4 for 1 second (note the duration units are in 1/64th of a second)."
   ]
  },
  {
   "cell_type": "code",
   "execution_count": null,
   "metadata": {
    "collapsed": false
   },
   "outputs": [],
   "source": [
    "# your code here \n",
    "# \n",
    "#"
   ]
  },
  {
   "cell_type": "markdown",
   "metadata": {},
   "source": [
    "The API also allow lets you control the LEDs on the front of the robot. You can display any four character ASCII message. Look through the __init__.py file and find out how to do this. \n",
    "\n",
    "Once you've found out how display the message 'MIT ' on the roomba. Note that you need to give it four characters for the command to work (one of them can be a space)"
   ]
  },
  {
   "cell_type": "code",
   "execution_count": null,
   "metadata": {
    "collapsed": true
   },
   "outputs": [],
   "source": [
    "# your code here\n",
    "#\n",
    "#"
   ]
  },
  {
   "cell_type": "markdown",
   "metadata": {},
   "source": [
    "Alright now let's start making a bit more complicated. Instead of simply displaying the letters MIT we can send them using binary (0's and 1's). Each letter in MIT can be encoded as follows\n",
    "\n",
    "__M__ = 1010\n",
    "\n",
    "__I__ = 1111\n",
    "\n",
    "__T__ = 0000\n",
    "\n",
    "(these are shorter than the actual ASCII encodings which you can see here http://sticksandstones.kstrom.com/appen.html)\n",
    "\n",
    "However now we need to display a sequence  - M - then - I - then - T -. \n",
    "\n",
    "Your task is to write code to do this. Wait one second after displaying a message before displaying the next message. \n",
    "\n",
    "The following python command will be helpful \n",
    "\n",
    "\n",
    "```python\n",
    "    time.sleep(1)\n",
    "```\n",
    "\n",
    "This tells the program to sleep for 1 second before continuing to execute\n"
   ]
  },
  {
   "cell_type": "code",
   "execution_count": null,
   "metadata": {
    "collapsed": true
   },
   "outputs": [],
   "source": [
    "# your code here\n",
    "#\n",
    "#"
   ]
  },
  {
   "cell_type": "markdown",
   "metadata": {},
   "source": [
    "Now we want to do something a little bit more complicated. We want the display to count up from 0 to 9999 and wait 0.1 seconds in between each. \n",
    "\n",
    "Can you code this?\n",
    "\n",
    "HINT: use a _for_ loop"
   ]
  },
  {
   "cell_type": "code",
   "execution_count": null,
   "metadata": {
    "collapsed": true
   },
   "outputs": [],
   "source": [
    "# your code here \n",
    "#\n",
    "#"
   ]
  },
  {
   "cell_type": "markdown",
   "metadata": {},
   "source": [
    "Modify your code from the previous problem to count down instead of up "
   ]
  },
  {
   "cell_type": "code",
   "execution_count": null,
   "metadata": {
    "collapsed": true
   },
   "outputs": [],
   "source": [
    "# modified code\n",
    "#\n",
    "#"
   ]
  },
  {
   "cell_type": "markdown",
   "metadata": {},
   "source": [
    "### Writing Music With Code\n",
    "\n",
    "That was cool. Now let's do something interesting and write some music using the API. We'll take you through a few exercises and then you can make your own music."
   ]
  },
  {
   "cell_type": "markdown",
   "metadata": {},
   "source": [
    "We can use different datastructures to save the notes we want to play. One of the easiest ones is a __list__. Fill in the following list with 5 notes. Look in the config file to figure out what the note strings should be.     \n",
    "  "
   ]
  },
  {
   "cell_type": "code",
   "execution_count": 6,
   "metadata": {
    "collapsed": true
   },
   "outputs": [],
   "source": [
    "notes_to_play = [ 'your notes go here' ]"
   ]
  },
  {
   "cell_type": "markdown",
   "metadata": {},
   "source": [
    "Now here is how you would play them. The Robot speakers require us to pause before playing the next note. Talk within your group about what the code here is doing."
   ]
  },
  {
   "cell_type": "code",
   "execution_count": 8,
   "metadata": {
    "collapsed": false
   },
   "outputs": [
    {
     "name": "stdout",
     "output_type": "stream",
     "text": [
      "now playing the note: A4\n",
      "now playing the note: B4\n",
      "now playing the note: C4\n"
     ]
    }
   ],
   "source": [
    "for note in notes_to_play:\n",
    "    bot.robot.play_note(note, 64)\n",
    "    # this prints the note the robot is playing\n",
    "    print 'now playing the note: ' + note\n",
    "    time.sleep(3)\n"
   ]
  },
  {
   "cell_type": "markdown",
   "metadata": {},
   "source": [
    "Write code to play a complete scale. [HINT: look up the notes in the config file]"
   ]
  },
  {
   "cell_type": "code",
   "execution_count": null,
   "metadata": {
    "collapsed": true
   },
   "outputs": [],
   "source": [
    "# your code here \n",
    "#\n",
    "#"
   ]
  },
  {
   "cell_type": "markdown",
   "metadata": {},
   "source": [
    "Now you can compose your own song! We'll come around and listen to everyone's. Make sure to show it to the staff. \n"
   ]
  },
  {
   "cell_type": "code",
   "execution_count": null,
   "metadata": {
    "collapsed": true
   },
   "outputs": [],
   "source": [
    "# write your music here\n",
    "#\n",
    "#"
   ]
  },
  {
   "cell_type": "markdown",
   "metadata": {},
   "source": [
    "## Part 3 - Sensors\n",
    "\n",
    "The robot has 58 sensors all of which give you useful information about the robot's environment and the state of the system at any given time. \n",
    "\n",
    "We can ask the robot to tell us what these values with the following API Call:\n",
    "\n",
    "(just run this code)\n"
   ]
  },
  {
   "cell_type": "code",
   "execution_count": 13,
   "metadata": {
    "collapsed": false
   },
   "outputs": [
    {
     "name": "stdout",
     "output_type": "stream",
     "text": [
      "{u'angle': 0,\n",
      " u'battery capacity': 2696,\n",
      " u'battery charge': 2660,\n",
      " u'buttons': {'clean': False,\n",
      "              'clock': False,\n",
      "              'day': False,\n",
      "              'dock': False,\n",
      "              'hour': False,\n",
      "              'minute': False,\n",
      "              'schedule': False,\n",
      "              'spot': False},\n",
      " u'charging sources available': {'home base': False,\n",
      "                                 'internal charger': False},\n",
      " u'charging state': 0,\n",
      " u'cliff front left': False,\n",
      " u'cliff front left signal': 2458,\n",
      " u'cliff front right': False,\n",
      " u'cliff front right signal': 2586,\n",
      " u'cliff left': False,\n",
      " u'cliff left signal': 2580,\n",
      " u'cliff right': False,\n",
      " u'cliff right signal': 2521,\n",
      " u'current': 65286,\n",
      " u'dirt detect': 0,\n",
      " u'distance': 0,\n",
      " u'infared char left': 0,\n",
      " u'infared char omni': 0,\n",
      " u'infared char right': 0,\n",
      " u'left encoder counts': 6035,\n",
      " u'left motor current': 1,\n",
      " u'light bump center left signal': 6,\n",
      " u'light bump center right signal': 10,\n",
      " u'light bump front left signal': 97,\n",
      " u'light bump front right signal': 13,\n",
      " u'light bump left signal': 14,\n",
      " u'light bump right signal': 1,\n",
      " u'light bumper': {'center left': False,\n",
      "                   'center right': False,\n",
      "                   'front left': False,\n",
      "                   'front right': False,\n",
      "                   'left': False,\n",
      "                   'right': False},\n",
      " u'main brush motor current': 1,\n",
      " u'number of stream packets': 0,\n",
      " u'oi mode': 2,\n",
      " u'requested left velocity': 0,\n",
      " u'requested radius': 0,\n",
      " u'requested right velocity': 0,\n",
      " u'requested velocity': 0,\n",
      " u'right encoder counts': 24328,\n",
      " u'right motor current': 0,\n",
      " u'side brush motor current': 1,\n",
      " u'song number': 0,\n",
      " u'song playing': False,\n",
      " u'stasis': True,\n",
      " u'temperature': 23,\n",
      " u'virtual wall': False,\n",
      " u'voltage': 16031,\n",
      " u'wall seen': False,\n",
      " u'wall signal': 0,\n",
      " u'wheel drop and bumps': {'bump left': False,\n",
      "                           'bump right': False,\n",
      "                           'drop left': False,\n",
      "                           'drop right': False},\n",
      " u'wheel overcurrents': {'left wheel': False,\n",
      "                         'main brush': False,\n",
      "                         'right wheel': False,\n",
      "                         'side brush': False}}\n"
     ]
    }
   ],
   "source": [
    "# the packet that has the sensors has the ID 100\n",
    "# this call tells the robot to ask for a new packet\n",
    "bot.robot.get_packet(100)\n",
    "\n",
    "# we can now look at the sensor values (which come from that packet)\n",
    "sensor_data = bot.robot.sensor_state\n",
    "# pprint is a pretty printing function to make the output more readable\n",
    "pprint.pprint(sensor_data)"
   ]
  },
  {
   "cell_type": "markdown",
   "metadata": {},
   "source": [
    "Inspect the output and look at the values of the different fields. This datastructure is called a dictionary. The way you access it is like this \n",
    "\n",
    "dict['key'] = 'some value'\n",
    "\n",
    "Write code to extract the temperature of the robot from the packet and print it out "
   ]
  },
  {
   "cell_type": "code",
   "execution_count": null,
   "metadata": {
    "collapsed": true
   },
   "outputs": [],
   "source": [
    "# your code here \n",
    "#\n",
    "#"
   ]
  },
  {
   "cell_type": "markdown",
   "metadata": {},
   "source": [
    "One of the most important sensors we will use is the physical bumper sensor. Write code to extract the value of the 'left bump' sensor from the packet and print it out.\n",
    "\n",
    "HINT: look at the 'wheel drop and bumps' field. This contains another dictionary. So start by running this\n",
    "\n",
    "```python\n",
    "bumps = sensor_data['wheel drop and bumps'] \n",
    "print bumps\n",
    "```\n",
    "\n",
    "and then we need to get one of the values from that packet."
   ]
  },
  {
   "cell_type": "code",
   "execution_count": null,
   "metadata": {
    "collapsed": true
   },
   "outputs": [],
   "source": [
    "# your code here\n",
    "#\n",
    "#"
   ]
  },
  {
   "cell_type": "markdown",
   "metadata": {},
   "source": [
    "Note that the sensor data is only valid immediately after it is sent to you. In the time since you looked at the contents of the packet things could have changed! \n",
    "\n",
    "To see this in action pick the robot up and move it. Hold one of the bumpers down and have your teammate execute the following code\n"
   ]
  },
  {
   "cell_type": "code",
   "execution_count": null,
   "metadata": {
    "collapsed": true
   },
   "outputs": [],
   "source": [
    "# this gets a new batch of sensor data\n",
    "bot.robot.get_packet(100)\n",
    "\n",
    "sensor_data = bot.robot.sensor_state\n",
    "# pprint is a pretty printing function to make the output more readable\n",
    "pprint.pprint(sensor_data)"
   ]
  },
  {
   "cell_type": "markdown",
   "metadata": {},
   "source": [
    "Have any of the sensor values changed? If so which ones? \n",
    "\n",
    "We'll work more with these tomorrow and write code to continually get sensor data.\n",
    "\n",
    "\n",
    "That's all for today!\n",
    "\n",
    "Tonight think about the task of driving the robot through a maze. What sensor data will you want to use? How frequently should you get that data from the robot. Also the Robot's sensors aren't perfect and are suceptible to noise. How does this change our problem? \n",
    "\n",
    "\n",
    "\n",
    "\n"
   ]
  }
 ],
 "metadata": {
  "kernelspec": {
   "display_name": "Python 2",
   "language": "python",
   "name": "python2"
  },
  "language_info": {
   "codemirror_mode": {
    "name": "ipython",
    "version": 2
   },
   "file_extension": ".py",
   "mimetype": "text/x-python",
   "name": "python",
   "nbconvert_exporter": "python",
   "pygments_lexer": "ipython2",
   "version": "2.7.10"
  }
 },
 "nbformat": 4,
 "nbformat_minor": 1
}
