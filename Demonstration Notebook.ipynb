{
 "cells": [
  {
   "cell_type": "markdown",
   "metadata": {},
   "source": [
    "# Building Robots"
   ]
  },
  {
   "cell_type": "markdown",
   "metadata": {},
   "source": [
    "## Connecting the Robot"
   ]
  },
  {
   "cell_type": "code",
   "execution_count": 1,
   "metadata": {
    "collapsed": false
   },
   "outputs": [
    {
     "name": "stdout",
     "output_type": "stream",
     "text": [
      "connected\n"
     ]
    }
   ],
   "source": [
    "from breezycreate2 import Robot\n",
    "import time, pprint, random\n",
    "\n",
    "bot = Robot()\n",
    "create_2_bot = bot.robot\n",
    "create_2_bot.full()"
   ]
  },
  {
   "cell_type": "markdown",
   "metadata": {},
   "source": [
    "To see if it is connected we have to ask it to do something!\n",
    "\n",
    "Let's have it play a sound:"
   ]
  },
  {
   "cell_type": "code",
   "execution_count": null,
   "metadata": {
    "collapsed": true
   },
   "outputs": [],
   "source": [
    "create_2_bot.play_test_sound()"
   ]
  },
  {
   "cell_type": "markdown",
   "metadata": {},
   "source": [
    "## Making the Robot Play Music"
   ]
  },
  {
   "cell_type": "code",
   "execution_count": null,
   "metadata": {
    "collapsed": true
   },
   "outputs": [],
   "source": []
  },
  {
   "cell_type": "markdown",
   "metadata": {},
   "source": [
    "## Making the Robot Turn"
   ]
  },
  {
   "cell_type": "code",
   "execution_count": null,
   "metadata": {
    "collapsed": true
   },
   "outputs": [],
   "source": [
    "bot.setTurnSpeed(100)"
   ]
  },
  {
   "cell_type": "markdown",
   "metadata": {},
   "source": [
    "See robots are stupid and will keep turning until we tell it to stop!\n",
    "\n",
    "So let's do that "
   ]
  },
  {
   "cell_type": "code",
   "execution_count": null,
   "metadata": {
    "collapsed": true
   },
   "outputs": [],
   "source": [
    "bot.setTurnSpeed(0)"
   ]
  },
  {
   "cell_type": "markdown",
   "metadata": {},
   "source": [
    "Can we make it turn faster?"
   ]
  },
  {
   "cell_type": "code",
   "execution_count": null,
   "metadata": {
    "collapsed": true
   },
   "outputs": [],
   "source": [
    "bot.setTurnSpeed(-500)"
   ]
  },
  {
   "cell_type": "code",
   "execution_count": null,
   "metadata": {
    "collapsed": true
   },
   "outputs": [],
   "source": [
    "bot.setTurnSpeed(0)"
   ]
  },
  {
   "cell_type": "markdown",
   "metadata": {},
   "source": [
    "## Making the Robot Drive!"
   ]
  },
  {
   "cell_type": "markdown",
   "metadata": {},
   "source": [
    "Make it drive forward slowly and then stop"
   ]
  },
  {
   "cell_type": "code",
   "execution_count": null,
   "metadata": {
    "collapsed": true
   },
   "outputs": [],
   "source": [
    "bot.setForwardSpeed(100)\n",
    "time.sleep(1)\n",
    "bot.setForwardSpeed(0)"
   ]
  },
  {
   "cell_type": "markdown",
   "metadata": {},
   "source": [
    "Make it drive quickly, stop and then backup"
   ]
  },
  {
   "cell_type": "code",
   "execution_count": null,
   "metadata": {
    "collapsed": true
   },
   "outputs": [],
   "source": [
    "speed = 500\n",
    "bot.setForwardSpeed(speed)\n",
    "time.sleep(1)\n",
    "bot.setForwardSpeed(speed * -1)\n",
    "time.sleep(0)\n",
    "bot.setForwardSpeed(0)"
   ]
  },
  {
   "cell_type": "markdown",
   "metadata": {},
   "source": [
    "## Sensors\n",
    "\n",
    "The robot has lots of different sensors it can use"
   ]
  },
  {
   "cell_type": "markdown",
   "metadata": {},
   "source": [
    "Let's use the light bumpers to detect if there is an object in front of us"
   ]
  },
  {
   "cell_type": "code",
   "execution_count": null,
   "metadata": {
    "collapsed": false
   },
   "outputs": [],
   "source": [
    "duration = 60 \n",
    "start_time = time.time()\n",
    "# keep looping until 60 seconds have expired\n",
    "while (time.time() - start_time) < duration:\n",
    "    bot._get_sensor_packet()\n",
    "    if bot.robot.sensor_state['light bumper']['right']:\n",
    "        print 'OBJECT DETECTED RIGHT'\n",
    "    if bot.robot.sensor_state['light bumper']['center right']:\n",
    "        print 'OBJECT DETECTED CENTER RIGHT'\n",
    "    if bot.robot.sensor_state['light bumper']['center left']:\n",
    "        print 'OBJECT DETECTED CENTER LEFT'\n",
    "    if bot.robot.sensor_state['light bumper']['left']:\n",
    "        print 'OBJECT DETECTED LEFT'\n",
    "    # sleep half a second to make this slower\n",
    "    time.sleep(0.5)"
   ]
  },
  {
   "cell_type": "markdown",
   "metadata": {},
   "source": [
    "## Using The Sensors To Avoid Falling Off a Table"
   ]
  },
  {
   "cell_type": "code",
   "execution_count": null,
   "metadata": {
    "collapsed": false
   },
   "outputs": [],
   "source": [
    "bot.setForwardSpeed(100)\n",
    "\n",
    "while True:\n",
    "    bot._get_sensor_packet()\n",
    "    if bot.robot.sensor_state['cliff right'] or bot.robot.sensor_state['cliff front right'] or bot.robot.sensor_state['cliff front left'] or bot.robot.sensor_state['cliff left']:\n",
    "            print 'CLIFF DETECTED!'\n",
    "            bot.setForwardSpeed(0)\n",
    "            break\n",
    "    time.sleep(0.1)"
   ]
  },
  {
   "cell_type": "markdown",
   "metadata": {},
   "source": [
    "## Using The Sensors to Avoid Hitting Objects"
   ]
  },
  {
   "cell_type": "code",
   "execution_count": null,
   "metadata": {
    "collapsed": false
   },
   "outputs": [],
   "source": [
    "SPEED = 100\n",
    "\n",
    "bot.setForwardSpeed(SPEED)\n",
    "\n",
    "while True:\n",
    "    bot._get_sensor_packet()\n",
    "    if bot.robot.sensor_state['light bumper']['right'] or bot.robot.sensor_state['light bumper']['center right'] or bot.robot.sensor_state['light bumper']['center left'] or \\\n",
    "        bot.robot.sensor_state['light bumper']['left'] or bot.robot.sensor_state['wheel drop and bumps']['bump right'] or bot.robot.sensor_state['wheel drop and bumps']['bump left']:\n",
    "            print 'OBJECT DETECTED'\n",
    "            bot.setForwardSpeed(0)\n",
    "            bot.setTurnSpeed(300)\n",
    "            time.sleep(random.uniform(0.25, 2))\n",
    "            bot.setTurnSpeed(0)\n",
    "            bot.setForwardSpeed(SPEED)\n",
    "    time.sleep(0.1)"
   ]
  },
  {
   "cell_type": "code",
   "execution_count": null,
   "metadata": {
    "collapsed": true
   },
   "outputs": [],
   "source": [
    "bot.setForwardSpeed(0)\n",
    "bot.setTurnSpeed(0)\n",
    "create_2_bot.stop()"
   ]
  },
  {
   "cell_type": "code",
   "execution_count": 2,
   "metadata": {
    "collapsed": true
   },
   "outputs": [],
   "source": [
    "create_2_bot.seek_dock()"
   ]
  },
  {
   "cell_type": "code",
   "execution_count": null,
   "metadata": {
    "collapsed": true
   },
   "outputs": [],
   "source": []
  }
 ],
 "metadata": {
  "kernelspec": {
   "display_name": "Python 2",
   "language": "python",
   "name": "python2"
  },
  "language_info": {
   "codemirror_mode": {
    "name": "ipython",
    "version": 2
   },
   "file_extension": ".py",
   "mimetype": "text/x-python",
   "name": "python",
   "nbconvert_exporter": "python",
   "pygments_lexer": "ipython2",
   "version": "2.7.10"
  }
 },
 "nbformat": 4,
 "nbformat_minor": 1
}
